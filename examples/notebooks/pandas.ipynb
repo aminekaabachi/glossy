{
 "cells": [
  {
   "cell_type": "code",
   "execution_count": 9,
   "metadata": {},
   "outputs": [],
   "source": [
    "import glossy as g\n",
    "_ = g.Glossary()"
   ]
  },
  {
   "cell_type": "code",
   "execution_count": 10,
   "metadata": {},
   "outputs": [
    {
     "data": {
      "text/html": [
       "<div>\n",
       "<style scoped>\n",
       "    .dataframe tbody tr th:only-of-type {\n",
       "        vertical-align: middle;\n",
       "    }\n",
       "\n",
       "    .dataframe tbody tr th {\n",
       "        vertical-align: top;\n",
       "    }\n",
       "\n",
       "    .dataframe thead th {\n",
       "        text-align: right;\n",
       "    }\n",
       "</style>\n",
       "<table border=\"1\" class=\"dataframe\">\n",
       "  <thead>\n",
       "    <tr style=\"text-align: right;\">\n",
       "      <th></th>\n",
       "      <th>Name</th>\n",
       "      <th>Age</th>\n",
       "    </tr>\n",
       "  </thead>\n",
       "  <tbody>\n",
       "    <tr>\n",
       "      <th>0</th>\n",
       "      <td>tom</td>\n",
       "      <td>10</td>\n",
       "    </tr>\n",
       "    <tr>\n",
       "      <th>1</th>\n",
       "      <td>nick</td>\n",
       "      <td>15</td>\n",
       "    </tr>\n",
       "    <tr>\n",
       "      <th>2</th>\n",
       "      <td>juli</td>\n",
       "      <td>14</td>\n",
       "    </tr>\n",
       "  </tbody>\n",
       "</table>\n",
       "</div>"
      ],
      "text/plain": [
       "   Name  Age\n",
       "0   tom   10\n",
       "1  nick   15\n",
       "2  juli   14"
      ]
     },
     "execution_count": 10,
     "metadata": {},
     "output_type": "execute_result"
    }
   ],
   "source": [
    "import pandas as pd\n",
    "\n",
    "data = [['tom', 10], ['nick', 15], ['juli', 14]] \n",
    "df = pd.DataFrame(data, columns = [_('Name', 'Name Column for Pandas DF', sensitivty=\"private\", type=\"zpp\", force_update=True), 'Age']) \n",
    "df"
   ]
  },
  {
   "cell_type": "code",
   "execution_count": 11,
   "metadata": {},
   "outputs": [
    {
     "data": {
      "text/plain": [
       "{'Name': {'name': 'Name',\n",
       "  'definition': 'Name Column for Pandas DF',\n",
       "  'usage_count': 0,\n",
       "  'metadata': {'sensitivty': 'private', 'type': 'zpp'},\n",
       "  'relations': []}}"
      ]
     },
     "execution_count": 11,
     "metadata": {},
     "output_type": "execute_result"
    }
   ],
   "source": [
    "_.describe()"
   ]
  },
  {
   "cell_type": "code",
   "execution_count": 12,
   "metadata": {},
   "outputs": [],
   "source": [
    "import os\n",
    "filepath = os.path.join('../../tests/fixtures', 'dummy.csv')\n",
    "glossary = g.from_csv(filepath)"
   ]
  },
  {
   "cell_type": "code",
   "execution_count": 13,
   "metadata": {},
   "outputs": [
    {
     "data": {
      "text/html": [
       "<div>\n",
       "<style scoped>\n",
       "    .dataframe tbody tr th:only-of-type {\n",
       "        vertical-align: middle;\n",
       "    }\n",
       "\n",
       "    .dataframe tbody tr th {\n",
       "        vertical-align: top;\n",
       "    }\n",
       "\n",
       "    .dataframe thead th {\n",
       "        text-align: right;\n",
       "    }\n",
       "</style>\n",
       "<table border=\"1\" class=\"dataframe\">\n",
       "  <thead>\n",
       "    <tr style=\"text-align: right;\">\n",
       "      <th></th>\n",
       "      <th>aaaa</th>\n",
       "      <th>Age</th>\n",
       "    </tr>\n",
       "  </thead>\n",
       "  <tbody>\n",
       "    <tr>\n",
       "      <th>0</th>\n",
       "      <td>tom</td>\n",
       "      <td>10</td>\n",
       "    </tr>\n",
       "    <tr>\n",
       "      <th>1</th>\n",
       "      <td>nick</td>\n",
       "      <td>15</td>\n",
       "    </tr>\n",
       "    <tr>\n",
       "      <th>2</th>\n",
       "      <td>juli</td>\n",
       "      <td>14</td>\n",
       "    </tr>\n",
       "  </tbody>\n",
       "</table>\n",
       "</div>"
      ],
      "text/plain": [
       "   aaaa  Age\n",
       "0   tom   10\n",
       "1  nick   15\n",
       "2  juli   14"
      ]
     },
     "execution_count": 13,
     "metadata": {},
     "output_type": "execute_result"
    }
   ],
   "source": [
    "df = pd.DataFrame(data, columns = [glossary('aaaa'), 'Age']) \n",
    "df"
   ]
  },
  {
   "cell_type": "code",
   "execution_count": 14,
   "metadata": {},
   "outputs": [
    {
     "data": {
      "text/html": [
       "<!DOCTYPE html> <html lang=\"en\"> <head> <title>Glossy Documentation</title> <meta charset=\"utf-8\"> <link rel=\"stylesheet\" href=\"https://use.fontawesome.com/releases/v5.8.2/css/all.css\"> <link rel=\"stylesheet\" href=\"https://fonts.googleapis.com/css?family=Roboto:300,400,500,700&display=swap\"> <link href=\"https://cdnjs.cloudflare.com/ajax/libs/twitter-bootstrap/4.4.1/css/bootstrap.min.css\" rel=\"stylesheet\"> <link href=\"https://cdnjs.cloudflare.com/ajax/libs/mdbootstrap/4.18.0/css/mdb.min.css\" rel=\"stylesheet\"> <link rel=\"stylesheet\" type=\"text/css\" href=\"https://cdn.datatables.net/1.10.21/css/jquery.dataTables.css\"> <script type=\"text/javascript\" src=\"https://cdnjs.cloudflare.com/ajax/libs/jquery/3.4.1/jquery.min.js\"></script> <script type=\"text/javascript\" src=\"https://cdnjs.cloudflare.com/ajax/libs/popper.js/1.14.4/umd/popper.min.js\"></script> <script type=\"text/javascript\" src=\"https://cdnjs.cloudflare.com/ajax/libs/twitter-bootstrap/4.4.1/js/bootstrap.min.js\"></script> <script type=\"text/javascript\" src=\"https://cdnjs.cloudflare.com/ajax/libs/mdbootstrap/4.18.0/js/mdb.min.js\"></script> <script type=\"text/javascript\" charset=\"utf8\" src=\"https://cdn.datatables.net/1.10.21/js/jquery.dataTables.js\"></script> <style>table.dataTable thead .sorting:after, table.dataTable thead .sorting:before, table.dataTable thead .sorting_asc:after, table.dataTable thead .sorting_asc:before, table.dataTable thead .sorting_asc_disabled:after, table.dataTable thead .sorting_asc_disabled:before, table.dataTable thead .sorting_desc:after, table.dataTable thead .sorting_desc:before, table.dataTable thead .sorting_desc_disabled:after, table.dataTable thead .sorting_desc_disabled:before{bottom: .5em;} table a{margin: 0; color: #007bff !important;}</style> <script>$(document).ready(function (){$('#dtBasicExample').DataTable(); $('.dataTables_length').addClass('bs-select');}); </script> </head> <body> <div class=\"container\" style=\"padding: 1em;\"> <h2>✨ Glossary</h2> <div class=\"row\"> <div class=\"col-sm-12\"><table id=\"dtBasicExample\" class=\"table table-striped table-bordered table-sm dataTable\" cellspacing=\"0\" role=\"grid\" aria-describedby=\"dtBasicExample_info\" width=\"100%\" style=\"width: 100%;\"> <thead><tr role=\"row\"><th class=\"th-sm sorting_asc\" tabindex=\"0\" aria-controls=\"dtBasicExample\" rowspan=\"1\" colspan=\"1\" aria-sort=\"ascending\" aria-label=\"name : activate to sort column descending\" style=\"width: 85px;\">Name</th><th class=\"th-sm sorting_asc\" tabindex=\"0\" aria-controls=\"dtBasicExample\" rowspan=\"1\" colspan=\"1\" aria-sort=\"ascending\" aria-label=\"definition : activate to sort column descending\" style=\"width: 85px;\">Definition</th><th class=\"th-sm sorting_asc\" tabindex=\"0\" aria-controls=\"dtBasicExample\" rowspan=\"1\" colspan=\"1\" aria-sort=\"ascending\" aria-label=\"usage_count : activate to sort column descending\" style=\"width: 85px;\">Usage Count</th><th class=\"th-sm sorting_asc\" tabindex=\"0\" aria-controls=\"dtBasicExample\" rowspan=\"1\" colspan=\"1\" aria-sort=\"ascending\" aria-label=\"traces : activate to sort column descending\" style=\"width: 255px;\">Traces</th><th class=\"th-sm sorting_asc\" tabindex=\"0\" aria-controls=\"dtBasicExample\" rowspan=\"1\" colspan=\"1\" aria-sort=\"ascending\" aria-label=\"metadata : activate to sort column descending\" style=\"width: 255px;\">Metadata</th></tr></thead> <tbody><tr role=\"row\" class=\"even\"><td><a href=\"#\" target=\"_blank\" style>aaaa</a></td><td>dddd</td><td>1</td><td>[FrameInfo(frame=<frame at 0x563e52e2d190, file '/tmp/ipykernel_25917/1216337638.py', line 1, code <module>>, filename='/tmp/ipykernel_25917/1216337638.py', lineno=1, function='<module>', code_context=[\"df = pd.DataFrame(data, columns = [glossary('aaaa'), 'Age']) \\n\"], index=0)]</td><td>{'hello': 'eeee', 'zoona': 'dfdf'}<br/></td></tr><tr role=\"row\" class=\"even\"><td><a href=\"#\" target=\"_blank\" style>dfdfd</a></td><td>eeee</td><td>0</td><td>[]</td><td>{'hello': 'dfddf', 'zoona': 'dfdfd'}<br/></td></tr></tbody> </table></div></div></div></div></body> </html>"
      ],
      "text/plain": [
       "<IPython.core.display.HTML object>"
      ]
     },
     "metadata": {},
     "output_type": "display_data"
    }
   ],
   "source": [
    "g.display_docs(glossary)"
   ]
  },
  {
   "cell_type": "code",
   "execution_count": 15,
   "metadata": {},
   "outputs": [
    {
     "data": {
      "text/plain": [
       "{'aaaa': {'name': 'aaaa',\n",
       "  'definition': 'dddd',\n",
       "  'usage_count': 1,\n",
       "  'metadata': {'hello': 'eeee', 'zoona': 'dfdf'},\n",
       "  'relations': []},\n",
       " 'dfdfd': {'name': 'dfdfd',\n",
       "  'definition': 'eeee',\n",
       "  'usage_count': 0,\n",
       "  'metadata': {'hello': 'dfddf', 'zoona': 'dfdfd'},\n",
       "  'relations': []}}"
      ]
     },
     "execution_count": 15,
     "metadata": {},
     "output_type": "execute_result"
    }
   ],
   "source": [
    "glossary.describe()"
   ]
  }
 ],
 "metadata": {
  "interpreter": {
   "hash": "2272c0593a3af7a537e650dce1c95f2b19a4bd4fe88ee021d12fe11e7e10e22a"
  },
  "kernelspec": {
   "display_name": "Python 3.8.12 64-bit ('glossy38': pyenv)",
   "language": "python",
   "name": "python3"
  },
  "language_info": {
   "codemirror_mode": {
    "name": "ipython",
    "version": 3
   },
   "file_extension": ".py",
   "mimetype": "text/x-python",
   "name": "python",
   "nbconvert_exporter": "python",
   "pygments_lexer": "ipython3",
   "version": "3.8.12"
  },
  "orig_nbformat": 4
 },
 "nbformat": 4,
 "nbformat_minor": 2
}
