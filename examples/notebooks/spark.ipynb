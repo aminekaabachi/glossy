{
 "cells": [
  {
   "cell_type": "code",
   "execution_count": 1,
   "metadata": {},
   "outputs": [
    {
     "name": "stderr",
     "output_type": "stream",
     "text": [
      "22/01/14 15:28:17 WARN Utils: Your hostname, wanderland resolves to a loopback address: 127.0.1.1; using 172.30.231.106 instead (on interface eth0)\n",
      "22/01/14 15:28:17 WARN Utils: Set SPARK_LOCAL_IP if you need to bind to another address\n",
      "Using Spark's default log4j profile: org/apache/spark/log4j-defaults.properties\n",
      "Setting default log level to \"WARN\".\n",
      "To adjust logging level use sc.setLogLevel(newLevel). For SparkR, use setLogLevel(newLevel).\n",
      "22/01/14 15:28:18 WARN NativeCodeLoader: Unable to load native-hadoop library for your platform... using builtin-java classes where applicable\n"
     ]
    }
   ],
   "source": [
    "from pyspark.sql import SparkSession\n",
    "spark = SparkSession.builder.getOrCreate()\n"
   ]
  },
  {
   "cell_type": "code",
   "execution_count": 2,
   "metadata": {},
   "outputs": [
    {
     "data": {
      "text/html": [
       "\n",
       "            <div>\n",
       "                <p><b>SparkSession - in-memory</b></p>\n",
       "                \n",
       "        <div>\n",
       "            <p><b>SparkContext</b></p>\n",
       "\n",
       "            <p><a href=\"http://172.30.231.106:4040\">Spark UI</a></p>\n",
       "\n",
       "            <dl>\n",
       "              <dt>Version</dt>\n",
       "                <dd><code>v3.2.0</code></dd>\n",
       "              <dt>Master</dt>\n",
       "                <dd><code>local[*]</code></dd>\n",
       "              <dt>AppName</dt>\n",
       "                <dd><code>pyspark-shell</code></dd>\n",
       "            </dl>\n",
       "        </div>\n",
       "        \n",
       "            </div>\n",
       "        "
      ],
      "text/plain": [
       "<pyspark.sql.session.SparkSession at 0x7f805bfca730>"
      ]
     },
     "execution_count": 2,
     "metadata": {},
     "output_type": "execute_result"
    }
   ],
   "source": [
    "spark"
   ]
  },
  {
   "cell_type": "code",
   "execution_count": 3,
   "metadata": {},
   "outputs": [
    {
     "data": {
      "text/plain": [
       "{'id': {'name': 'id',\n",
       "  'definition': 'Row ID colum',\n",
       "  'usage_count': 0,\n",
       "  'metadata': {},\n",
       "  'relations': []},\n",
       " 'label': {'name': 'label',\n",
       "  'definition': 'Label column',\n",
       "  'usage_count': 0,\n",
       "  'metadata': {},\n",
       "  'relations': []}}"
      ]
     },
     "execution_count": 3,
     "metadata": {},
     "output_type": "execute_result"
    }
   ],
   "source": [
    "import glossy as g\n",
    "d = g.Glossary()\n",
    "\n",
    "#define glossary terms\n",
    "d(\"id\", \"Row ID colum\")\n",
    "d(\"label\", \"Label column\")\n",
    "\n",
    "d.describe()"
   ]
  },
  {
   "cell_type": "code",
   "execution_count": 4,
   "metadata": {},
   "outputs": [
    {
     "data": {
      "text/plain": [
       "True"
      ]
     },
     "execution_count": 4,
     "metadata": {},
     "output_type": "execute_result"
    }
   ],
   "source": [
    "isinstance(d('id'), str)"
   ]
  },
  {
   "cell_type": "code",
   "execution_count": null,
   "metadata": {},
   "outputs": [],
   "source": []
  },
  {
   "cell_type": "code",
   "execution_count": 5,
   "metadata": {},
   "outputs": [
    {
     "name": "stdout",
     "output_type": "stream",
     "text": [
      "root\n",
      " |-- id: integer (nullable = true)\n",
      " |-- label: string (nullable = true)\n",
      "\n"
     ]
    }
   ],
   "source": [
    "from pyspark.sql import types as T\n",
    "df = spark.createDataFrame(\n",
    "    [\n",
    "        (1, \"foo\"), \n",
    "        (2, \"bar\"),\n",
    "    ],\n",
    "    T.StructType( \n",
    "        [\n",
    "            T.StructField(d(\"id\"), T.IntegerType(), True),\n",
    "            T.StructField(d(\"label\"), T.StringType(), True),\n",
    "        ]\n",
    "    ),\n",
    ")\n",
    "df.printSchema()"
   ]
  },
  {
   "cell_type": "code",
   "execution_count": 6,
   "metadata": {},
   "outputs": [
    {
     "name": "stderr",
     "output_type": "stream",
     "text": [
      "                                                                                \r"
     ]
    },
    {
     "name": "stdout",
     "output_type": "stream",
     "text": [
      "+---+-----+\n",
      "| id|label|\n",
      "+---+-----+\n",
      "|  1|  foo|\n",
      "|  2|  bar|\n",
      "+---+-----+\n",
      "\n"
     ]
    }
   ],
   "source": [
    "df.show()"
   ]
  },
  {
   "cell_type": "code",
   "execution_count": 7,
   "metadata": {},
   "outputs": [
    {
     "data": {
      "text/html": [
       "<!DOCTYPE html> <html lang=\"en\"> <head> <title>Glossy Documentation</title> <meta charset=\"utf-8\"> <link rel=\"stylesheet\" href=\"https://use.fontawesome.com/releases/v5.8.2/css/all.css\"> <link rel=\"stylesheet\" href=\"https://fonts.googleapis.com/css?family=Roboto:300,400,500,700&display=swap\"> <link href=\"https://cdnjs.cloudflare.com/ajax/libs/twitter-bootstrap/4.4.1/css/bootstrap.min.css\" rel=\"stylesheet\"> <link href=\"https://cdnjs.cloudflare.com/ajax/libs/mdbootstrap/4.18.0/css/mdb.min.css\" rel=\"stylesheet\"> <link rel=\"stylesheet\" type=\"text/css\" href=\"https://cdn.datatables.net/1.10.21/css/jquery.dataTables.css\"> <script type=\"text/javascript\" src=\"https://cdnjs.cloudflare.com/ajax/libs/jquery/3.4.1/jquery.min.js\"></script> <script type=\"text/javascript\" src=\"https://cdnjs.cloudflare.com/ajax/libs/popper.js/1.14.4/umd/popper.min.js\"></script> <script type=\"text/javascript\" src=\"https://cdnjs.cloudflare.com/ajax/libs/twitter-bootstrap/4.4.1/js/bootstrap.min.js\"></script> <script type=\"text/javascript\" src=\"https://cdnjs.cloudflare.com/ajax/libs/mdbootstrap/4.18.0/js/mdb.min.js\"></script> <script type=\"text/javascript\" charset=\"utf8\" src=\"https://cdn.datatables.net/1.10.21/js/jquery.dataTables.js\"></script> <style>table.dataTable thead .sorting:after, table.dataTable thead .sorting:before, table.dataTable thead .sorting_asc:after, table.dataTable thead .sorting_asc:before, table.dataTable thead .sorting_asc_disabled:after, table.dataTable thead .sorting_asc_disabled:before, table.dataTable thead .sorting_desc:after, table.dataTable thead .sorting_desc:before, table.dataTable thead .sorting_desc_disabled:after, table.dataTable thead .sorting_desc_disabled:before{bottom: .5em;} table a{margin: 0; color: #007bff !important;}</style> <script>$(document).ready(function (){$('#dtBasicExample').DataTable(); $('.dataTables_length').addClass('bs-select');}); </script> </head> <body> <div class=\"container\" style=\"padding: 1em;\"> <h2>✨ Glossary</h2> <div class=\"row\"> <div class=\"col-sm-12\"><table id=\"dtBasicExample\" class=\"table table-striped table-bordered table-sm dataTable\" cellspacing=\"0\" role=\"grid\" aria-describedby=\"dtBasicExample_info\" width=\"100%\" style=\"width: 100%;\"> <thead><tr role=\"row\"><th class=\"th-sm sorting_asc\" tabindex=\"0\" aria-controls=\"dtBasicExample\" rowspan=\"1\" colspan=\"1\" aria-sort=\"ascending\" aria-label=\"name : activate to sort column descending\" style=\"width: 85px;\">Name</th><th class=\"th-sm sorting_asc\" tabindex=\"0\" aria-controls=\"dtBasicExample\" rowspan=\"1\" colspan=\"1\" aria-sort=\"ascending\" aria-label=\"definition : activate to sort column descending\" style=\"width: 85px;\">Definition</th><th class=\"th-sm sorting_asc\" tabindex=\"0\" aria-controls=\"dtBasicExample\" rowspan=\"1\" colspan=\"1\" aria-sort=\"ascending\" aria-label=\"usage_count : activate to sort column descending\" style=\"width: 85px;\">Usage Count</th><th class=\"th-sm sorting_asc\" tabindex=\"0\" aria-controls=\"dtBasicExample\" rowspan=\"1\" colspan=\"1\" aria-sort=\"ascending\" aria-label=\"traces : activate to sort column descending\" style=\"width: 255px;\">Traces</th><th class=\"th-sm sorting_asc\" tabindex=\"0\" aria-controls=\"dtBasicExample\" rowspan=\"1\" colspan=\"1\" aria-sort=\"ascending\" aria-label=\"metadata : activate to sort column descending\" style=\"width: 255px;\">Metadata</th></tr></thead> <tbody><tr role=\"row\" class=\"even\"><td><a href=\"#\" target=\"_blank\" style>id</a></td><td>Row ID colum</td><td>2</td><td>[FrameInfo(frame=<frame at 0x7f8080256b80, file '/tmp/ipykernel_26004/1408836532.py', line 1, code <module>>, filename='/tmp/ipykernel_26004/1408836532.py', lineno=1, function='<module>', code_context=[\"isinstance(d('id'), str)\\n\"], index=0), FrameInfo(frame=<frame at 0x7f807400dcc0, file '/tmp/ipykernel_26004/114290321.py', line 2, code <module>>, filename='/tmp/ipykernel_26004/114290321.py', lineno=9, function='<module>', code_context=['            T.StructField(d(\"id\"), T.IntegerType(), True),\\n'], index=0)]</td><td>{}<br/></td></tr><tr role=\"row\" class=\"even\"><td><a href=\"#\" target=\"_blank\" style>label</a></td><td>Label column</td><td>1</td><td>[FrameInfo(frame=<frame at 0x7f807400dcc0, file '/tmp/ipykernel_26004/114290321.py', line 2, code <module>>, filename='/tmp/ipykernel_26004/114290321.py', lineno=10, function='<module>', code_context=['            T.StructField(d(\"label\"), T.StringType(), True),\\n'], index=0)]</td><td>{}<br/></td></tr></tbody> </table></div></div></div></div></body> </html>"
      ],
      "text/plain": [
       "<IPython.core.display.HTML object>"
      ]
     },
     "metadata": {},
     "output_type": "display_data"
    }
   ],
   "source": [
    "g.display_docs(d)"
   ]
  }
 ],
 "metadata": {
  "interpreter": {
   "hash": "2272c0593a3af7a537e650dce1c95f2b19a4bd4fe88ee021d12fe11e7e10e22a"
  },
  "kernelspec": {
   "display_name": "Python 3.8.12 64-bit ('glossy38': pyenv)",
   "language": "python",
   "name": "python3"
  },
  "language_info": {
   "codemirror_mode": {
    "name": "ipython",
    "version": 3
   },
   "file_extension": ".py",
   "mimetype": "text/x-python",
   "name": "python",
   "nbconvert_exporter": "python",
   "pygments_lexer": "ipython3",
   "version": "3.8.12"
  },
  "orig_nbformat": 4
 },
 "nbformat": 4,
 "nbformat_minor": 2
}
