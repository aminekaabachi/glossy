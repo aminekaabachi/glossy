{
 "cells": [
  {
   "cell_type": "code",
   "execution_count": 7,
   "metadata": {},
   "outputs": [
    {
     "data": {
      "text/plain": [
       "<lexy.core.glossary.Glossary at 0x7fb9ae5f3310>"
      ]
     },
     "execution_count": 7,
     "metadata": {},
     "output_type": "execute_result"
    }
   ],
   "source": [
    "import os\n",
    "import lexy as xy\n",
    "filepath = os.path.join('./data', 'similar.csv')\n",
    "glossary = xy.from_csv(filepath)\n",
    "glossary"
   ]
  },
  {
   "cell_type": "code",
   "execution_count": 8,
   "metadata": {},
   "outputs": [
    {
     "data": {
      "text/html": [
       "<!DOCTYPE html> <html lang=\"en\"> <head> <title>lexy Documentation</title> <meta charset=\"utf-8\"> <link rel=\"stylesheet\" href=\"https://use.fontawesome.com/releases/v5.8.2/css/all.css\"> <link rel=\"stylesheet\" href=\"https://fonts.googleapis.com/css?family=Roboto:300,400,500,700&display=swap\"> <link href=\"https://cdnjs.cloudflare.com/ajax/libs/twitter-bootstrap/4.4.1/css/bootstrap.min.css\" rel=\"stylesheet\"> <link href=\"https://cdnjs.cloudflare.com/ajax/libs/mdbootstrap/4.18.0/css/mdb.min.css\" rel=\"stylesheet\"> <link rel=\"stylesheet\" type=\"text/css\" href=\"https://cdn.datatables.net/1.10.21/css/jquery.dataTables.css\"> <script type=\"text/javascript\" src=\"https://cdnjs.cloudflare.com/ajax/libs/jquery/3.4.1/jquery.min.js\"></script> <script type=\"text/javascript\" src=\"https://cdnjs.cloudflare.com/ajax/libs/popper.js/1.14.4/umd/popper.min.js\"></script> <script type=\"text/javascript\" src=\"https://cdnjs.cloudflare.com/ajax/libs/twitter-bootstrap/4.4.1/js/bootstrap.min.js\"></script> <script type=\"text/javascript\" src=\"https://cdnjs.cloudflare.com/ajax/libs/mdbootstrap/4.18.0/js/mdb.min.js\"></script> <script type=\"text/javascript\" charset=\"utf8\" src=\"https://cdn.datatables.net/1.10.21/js/jquery.dataTables.js\"></script> <style>table.dataTable thead .sorting:after, table.dataTable thead .sorting:before, table.dataTable thead .sorting_asc:after, table.dataTable thead .sorting_asc:before, table.dataTable thead .sorting_asc_disabled:after, table.dataTable thead .sorting_asc_disabled:before, table.dataTable thead .sorting_desc:after, table.dataTable thead .sorting_desc:before, table.dataTable thead .sorting_desc_disabled:after, table.dataTable thead .sorting_desc_disabled:before{bottom: .5em;} table a{margin: 0; color: #007bff !important;}</style> <script>$(document).ready(function (){$('#dtBasicExample').DataTable(); $('.dataTables_length').addClass('bs-select');}); </script> </head> <body> <div class=\"container\" style=\"padding: 1em;\"> <h2>✨ Glossary</h2> <div class=\"row\"> <div class=\"col-sm-12\"><table id=\"dtBasicExample\" class=\"table table-striped table-bordered table-sm dataTable\" cellspacing=\"0\" role=\"grid\" aria-describedby=\"dtBasicExample_info\" width=\"100%\" style=\"width: 100%;\"> <thead><tr role=\"row\"><th class=\"th-sm sorting_asc\" tabindex=\"0\" aria-controls=\"dtBasicExample\" rowspan=\"1\" colspan=\"1\" aria-sort=\"ascending\" aria-label=\"name : activate to sort column descending\" style=\"width: 85px;\">Name</th><th class=\"th-sm sorting_asc\" tabindex=\"0\" aria-controls=\"dtBasicExample\" rowspan=\"1\" colspan=\"1\" aria-sort=\"ascending\" aria-label=\"definition : activate to sort column descending\" style=\"width: 85px;\">Definition</th><th class=\"th-sm sorting_asc\" tabindex=\"0\" aria-controls=\"dtBasicExample\" rowspan=\"1\" colspan=\"1\" aria-sort=\"ascending\" aria-label=\"usage_count : activate to sort column descending\" style=\"width: 85px;\">Usage Count</th><th class=\"th-sm sorting_asc\" tabindex=\"0\" aria-controls=\"dtBasicExample\" rowspan=\"1\" colspan=\"1\" aria-sort=\"ascending\" aria-label=\"traces : activate to sort column descending\" style=\"width: 255px;\">Traces</th><th class=\"th-sm sorting_asc\" tabindex=\"0\" aria-controls=\"dtBasicExample\" rowspan=\"1\" colspan=\"1\" aria-sort=\"ascending\" aria-label=\"metadata : activate to sort column descending\" style=\"width: 255px;\">Metadata</th></tr></thead> <tbody><tr role=\"row\" class=\"even\"><td><a href=\"#\" target=\"_blank\" style>age</a></td><td>age of the user</td><td>0</td><td>[]</td><td>{'required': True, 'sensitivty': 'personal', 'type': 'number'}<br/></td></tr><tr role=\"row\" class=\"even\"><td><a href=\"#\" target=\"_blank\" style>age2</a></td><td>age of the user when joined the platfrom</td><td>0</td><td>[]</td><td>{'required': True, 'sensitivty': 'personal', 'type': 'number'}<br/></td></tr><tr role=\"row\" class=\"even\"><td><a href=\"#\" target=\"_blank\" style>address</a></td><td>address of the user</td><td>0</td><td>[]</td><td>{'required': False, 'sensitivty': 'personal', 'type': 'string'}<br/></td></tr><tr role=\"row\" class=\"even\"><td><a href=\"#\" target=\"_blank\" style>home address</a></td><td>address of the user house</td><td>0</td><td>[]</td><td>{'required': False, 'sensitivty': 'personal', 'type': 'string'}<br/></td></tr><tr role=\"row\" class=\"even\"><td><a href=\"#\" target=\"_blank\" style>homeAddress</a></td><td>address of the user house</td><td>0</td><td>[]</td><td>{'required': False, 'sensitivty': 'personal', 'type': 'string'}<br/></td></tr><tr role=\"row\" class=\"even\"><td><a href=\"#\" target=\"_blank\" style>HomeAddress</a></td><td>address of the user house</td><td>0</td><td>[]</td><td>{'required': False, 'sensitivty': 'personal', 'type': 'string'}<br/></td></tr><tr role=\"row\" class=\"even\"><td><a href=\"#\" target=\"_blank\" style>work address</a></td><td>address of the user workplace</td><td>0</td><td>[]</td><td>{'required': False, 'sensitivty': 'personal', 'type': 'string'}<br/></td></tr><tr role=\"row\" class=\"even\"><td><a href=\"#\" target=\"_blank\" style>personal_address</a></td><td>personal address of the user</td><td>0</td><td>[]</td><td>{'required': False, 'sensitivty': 'personal', 'type': 'string'}<br/></td></tr><tr role=\"row\" class=\"even\"><td><a href=\"#\" target=\"_blank\" style>personal address</a></td><td>personal address of the user</td><td>0</td><td>[]</td><td>{'required': False, 'sensitivty': 'personal', 'type': 'string'}<br/></td></tr><tr role=\"row\" class=\"even\"><td><a href=\"#\" target=\"_blank\" style>personal home address</a></td><td>personal address of the user</td><td>0</td><td>[]</td><td>{'required': False, 'sensitivty': 'personal', 'type': 'string'}<br/></td></tr><tr role=\"row\" class=\"even\"><td><a href=\"#\" target=\"_blank\" style>joined_year</a></td><td>joined year on the platform</td><td>0</td><td>[]</td><td>{'required': False, 'sensitivty': 'public', 'type': 'number'}<br/></td></tr><tr role=\"row\" class=\"even\"><td><a href=\"#\" target=\"_blank\" style>year_of_birth</a></td><td>year of birth of the user</td><td>0</td><td>[]</td><td>{'required': False, 'sensitivty': 'public', 'type': 'number'}<br/></td></tr><tr role=\"row\" class=\"even\"><td><a href=\"#\" target=\"_blank\" style>bankaccount</a></td><td>address of the user house</td><td>0</td><td>[]</td><td>{'required': False, 'sensitivty': 'personal', 'type': 'string'}<br/></td></tr><tr role=\"row\" class=\"even\"><td><a href=\"#\" target=\"_blank\" style>bank account</a></td><td>address of the user house</td><td>0</td><td>[]</td><td>{'required': False, 'sensitivty': 'personal', 'type': 'string'}<br/></td></tr><tr role=\"row\" class=\"even\"><td><a href=\"#\" target=\"_blank\" style>bankAccountID</a></td><td>address of the user house</td><td>0</td><td>[]</td><td>{'required': False, 'sensitivty': 'personal', 'type': 'string'}<br/></td></tr><tr role=\"row\" class=\"even\"><td><a href=\"#\" target=\"_blank\" style>AccountID</a></td><td>address of the user house</td><td>0</td><td>[]</td><td>{'required': False, 'sensitivty': 'personal', 'type': 'string'}<br/></td></tr></tbody> </table></div></div></div></div></body> </html>"
      ],
      "text/plain": [
       "<IPython.core.display.HTML object>"
      ]
     },
     "metadata": {},
     "output_type": "display_data"
    }
   ],
   "source": [
    "xy.display_docs(glossary)"
   ]
  },
  {
   "cell_type": "code",
   "execution_count": 9,
   "metadata": {},
   "outputs": [
    {
     "name": "stderr",
     "output_type": "stream",
     "text": [
      "/tmp/ipykernel_545/2536420952.py:28: UserWarning: [W008] Evaluating Doc.similarity based on empty vectors.\n",
      "  similariry = nlp(cleanup(source.name)).similarity(nlp(cleanup(target.name)))\n",
      "/tmp/ipykernel_545/2536420952.py:29: UserWarning: [W008] Evaluating Doc.similarity based on empty vectors.\n",
      "  similariry_spaced = nlp(cleanup_spaced(source.name)).similarity(nlp(cleanup_spaced(target.name)))\n"
     ]
    },
    {
     "name": "stdout",
     "output_type": "stream",
     "text": [
      "{'AccountID': ['bankAccountID'],\n",
      " 'HomeAddress': ['home address', 'homeAddress', 'personal home address'],\n",
      " 'bank account': ['bankaccount'],\n",
      " 'bankAccountID': ['AccountID'],\n",
      " 'bankaccount': ['bank account'],\n",
      " 'home address': ['homeAddress', 'HomeAddress', 'personal home address'],\n",
      " 'homeAddress': ['home address', 'HomeAddress', 'personal home address'],\n",
      " 'personal address': ['personal_address', 'personal home address'],\n",
      " 'personal home address': ['home address',\n",
      "                           'homeAddress',\n",
      "                           'HomeAddress',\n",
      "                           'personal_address',\n",
      "                           'personal address'],\n",
      " 'personal_address': ['personal address', 'personal home address']}\n"
     ]
    }
   ],
   "source": [
    "import spacy\n",
    "from re import sub\n",
    "\n",
    "import logging\n",
    "logger = logging.getLogger(\"spacy\")\n",
    "logger.setLevel(logging.ERROR)\n",
    "\n",
    "nlp = spacy.load(\"en_core_web_md\")\n",
    "SIMILARITY_THRESHOLD = 0.9\n",
    "\n",
    "def cleanup(term:str):\n",
    "    return ' '.join(\n",
    "    sub('([A-Z][a-z]+)', r' \\1',\n",
    "    sub('([A-Z]+)', r' \\1',\n",
    "    term.replace('-', '').replace('_', '').replace(' ', ''))).split()).lower()\n",
    "\n",
    "def cleanup_spaced(term:str):\n",
    "    return ' '.join(\n",
    "    sub('([A-Z][a-z]+)', r' \\1',\n",
    "    sub('([A-Z]+)', r' \\1',\n",
    "    term.replace('-', ' ').replace('_', ' '))).split()).lower()\n",
    "\n",
    "similar = {}\n",
    "terms = glossary.terms.values()\n",
    "for source in terms:\n",
    "    for target in terms:\n",
    "        if source.name != target.name:\n",
    "            similariry = nlp(cleanup(source.name)).similarity(nlp(cleanup(target.name)))\n",
    "            similariry_spaced = nlp(cleanup_spaced(source.name)).similarity(nlp(cleanup_spaced(target.name)))\n",
    "            if similariry > SIMILARITY_THRESHOLD or similariry_spaced > SIMILARITY_THRESHOLD:\n",
    "                similar[source.name] = [*similar.get(source.name, []), target.name]\n",
    "\n",
    "import pprint\n",
    "pprint.pprint(similar)\n"
   ]
  },
  {
   "cell_type": "code",
   "execution_count": null,
   "metadata": {},
   "outputs": [],
   "source": []
  }
 ],
 "metadata": {
  "interpreter": {
   "hash": "2272c0593a3af7a537e650dce1c95f2b19a4bd4fe88ee021d12fe11e7e10e22a"
  },
  "kernelspec": {
   "display_name": "Python 3.8.12 64-bit ('glossy38': pyenv)",
   "language": "python",
   "name": "python3"
  },
  "language_info": {
   "codemirror_mode": {
    "name": "ipython",
    "version": 3
   },
   "file_extension": ".py",
   "mimetype": "text/x-python",
   "name": "python",
   "nbconvert_exporter": "python",
   "pygments_lexer": "ipython3",
   "version": "3.8.12"
  },
  "orig_nbformat": 4
 },
 "nbformat": 4,
 "nbformat_minor": 2
}
