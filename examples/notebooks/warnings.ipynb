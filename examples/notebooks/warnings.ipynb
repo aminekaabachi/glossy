{
 "cells": [
  {
   "cell_type": "code",
   "execution_count": 1,
   "metadata": {},
   "outputs": [
    {
     "data": {
      "text/plain": [
       "<lexy.core.glossary.Glossary at 0x7f8c7b279e80>"
      ]
     },
     "execution_count": 1,
     "metadata": {},
     "output_type": "execute_result"
    }
   ],
   "source": [
    "import os\n",
    "import lexy as xy\n",
    "filepath = os.path.join('./data', 'similar.csv')\n",
    "glossary = xy.from_csv(filepath)\n",
    "glossary"
   ]
  },
  {
   "cell_type": "code",
   "execution_count": 2,
   "metadata": {},
   "outputs": [
    {
     "data": {
      "text/html": [
       "\n",
       "<!DOCTYPE html>\n",
       "<html lang=\"en\">\n",
       "\n",
       "<head>\n",
       "    <title>Lexy Documentation</title>\n",
       "    <meta charset=\"utf-8\">\n",
       "    <link rel=\"stylesheet\" href=\"https://use.fontawesome.com/releases/v5.8.2/css/all.css\">\n",
       "    <link rel=\"stylesheet\" href=\"https://fonts.googleapis.com/css?family=Roboto:300,400,500,700&display=swap\">\n",
       "    <link rel=\"stylesheet\" type=\"text/css\"\n",
       "        href=\"https://cdnjs.cloudflare.com/ajax/libs/semantic-ui/2.3.1/semantic.min.css\">\n",
       "    <link rel=\"stylesheet\" type=\"text/css\" href=\"https://cdnjs.cloudflare.com/ajax/libs/semantic-ui/2.3.1/components/table.min.css\">\n",
       "    <link rel=\"stylesheet\" type=\"text/css\" href=\"https://cdn.datatables.net/1.11.3/css/dataTables.semanticui.min.css\">\n",
       "    <style>\n",
       "        table.glossary thead .sorting:after,\n",
       "        table.glossary thead .sorting:before,\n",
       "        table.glossary thead .sorting_asc:after,\n",
       "        table.glossary thead .sorting_asc:before,\n",
       "        table.glossary thead .sorting_asc_disabled:after,\n",
       "        table.glossary thead .sorting_asc_disabled:before,\n",
       "        table.glossary thead .sorting_desc:after,\n",
       "        table.glossary thead .sorting_desc:before,\n",
       "        table.glossary thead .sorting_desc_disabled:after,\n",
       "        table.glossary thead .sorting_desc_disabled:before {\n",
       "            bottom: .5em;\n",
       "        }\n",
       "\n",
       "        table a {\n",
       "            margin: 0;\n",
       "            color: #007bff !important;\n",
       "        }\n",
       "\n",
       "        table, th, td {\n",
       "            border: 0.5px solid #ccc !important;\n",
       "            text-align: center !important;\n",
       "        }\n",
       "\n",
       "        a.label {\n",
       "            margin:1px !important;\n",
       "        }\n",
       "    </style>\n",
       "</head>\n",
       "\n",
       "<body>\n",
       "    <div class=\"ui\" style=\"padding: 1em;\">\n",
       "        <div\n",
       "            style=\"padding-top: 1em; padding-bottom:0.5em; margin-bottom: 1em; border-bottom: 2px solid #F1F1F1;\">\n",
       "            <h2>📙 Glossary</h2>\n",
       "        </div>\n",
       "        <div>\n",
       "            <table id=\"glossary\" class=\"ui striped table\" cellspacing=\"0\" role=\"grid\" width=\"100%\" style=\"width: 100%;\"> <thead><tr role=\"row\"><th class=\"th-sm \" tabindex=\"0\" aria-controls=\"glossy\" rowspan=\"1\" colspan=\"1\" aria-sort=\"ascending\" aria-label=\"name : activate to sort column descending\" style=\"width: 85px;\">Name</th><th class=\"th-sm \" tabindex=\"0\" aria-controls=\"glossy\" rowspan=\"1\" colspan=\"1\" aria-sort=\"ascending\" aria-label=\"definition : activate to sort column descending\" style=\"width: 255px;\">Definition</th><th class=\"th-sm \" tabindex=\"0\" aria-controls=\"glossy\" rowspan=\"1\" colspan=\"1\" aria-sort=\"ascending\" aria-label=\"usage_count : activate to sort column descending\" style=\"width: 85px;\">Usage Count</th><th class=\"th-sm \" tabindex=\"0\" aria-controls=\"glossy\" rowspan=\"1\" colspan=\"1\" aria-sort=\"ascending\" aria-label=\"traces : activate to sort column descending\" style=\"width: 255px;\">Traces</th><th class=\"th-sm \" tabindex=\"0\" aria-controls=\"glossy\" rowspan=\"1\" colspan=\"1\" aria-sort=\"ascending\" aria-label=\"metadata : activate to sort column descending\" style=\"width: 100px;\">Metadata</th></tr></thead> <tbody><tr role=\"row\" id='<a href=\"#age\" target=\"_blank\" style>age</a>' class=\"even\"><td><a href=\"#age\" target=\"_blank\" style>age</a></td><td>age of the user</td><td><a class='ui green circular label'>0</a></td><td></td><td><a class='ui small teal label'>required <span class='detail'>True</span></a>&nbsp;&nbsp;<a class='ui small teal label'>sensitivty <span class='detail'>personal</span></a>&nbsp;&nbsp;<a class='ui small teal label'>type <span class='detail'>number</span></a></td></tr><tr role=\"row\" id='<a href=\"#age2\" target=\"_blank\" style>age2</a>' class=\"even\"><td><a href=\"#age2\" target=\"_blank\" style>age2</a></td><td>age of the user when joined the platfrom</td><td><a class='ui green circular label'>0</a></td><td></td><td><a class='ui small teal label'>required <span class='detail'>True</span></a>&nbsp;&nbsp;<a class='ui small teal label'>sensitivty <span class='detail'>personal</span></a>&nbsp;&nbsp;<a class='ui small teal label'>type <span class='detail'>number</span></a></td></tr><tr role=\"row\" id='<a href=\"#address\" target=\"_blank\" style>address</a>' class=\"even\"><td><a href=\"#address\" target=\"_blank\" style>address</a></td><td>address of the user</td><td><a class='ui green circular label'>0</a></td><td></td><td><a class='ui small teal label'>required <span class='detail'>False</span></a>&nbsp;&nbsp;<a class='ui small teal label'>sensitivty <span class='detail'>personal</span></a>&nbsp;&nbsp;<a class='ui small teal label'>type <span class='detail'>string</span></a></td></tr><tr role=\"row\" id='<a href=\"#home address\" target=\"_blank\" style>home address</a>' class=\"even\"><td><a href=\"#home address\" target=\"_blank\" style>home address</a></td><td>address of the user house</td><td><a class='ui green circular label'>0</a></td><td></td><td><a class='ui small teal label'>required <span class='detail'>False</span></a>&nbsp;&nbsp;<a class='ui small teal label'>sensitivty <span class='detail'>personal</span></a>&nbsp;&nbsp;<a class='ui small teal label'>type <span class='detail'>string</span></a></td></tr><tr role=\"row\" id='<a href=\"#homeAddress\" target=\"_blank\" style>homeAddress</a>' class=\"even\"><td><a href=\"#homeAddress\" target=\"_blank\" style>homeAddress</a></td><td>address of the user house</td><td><a class='ui green circular label'>0</a></td><td></td><td><a class='ui small teal label'>required <span class='detail'>False</span></a>&nbsp;&nbsp;<a class='ui small teal label'>sensitivty <span class='detail'>personal</span></a>&nbsp;&nbsp;<a class='ui small teal label'>type <span class='detail'>string</span></a></td></tr><tr role=\"row\" id='<a href=\"#HomeAddress\" target=\"_blank\" style>HomeAddress</a>' class=\"even\"><td><a href=\"#HomeAddress\" target=\"_blank\" style>HomeAddress</a></td><td>address of the user house</td><td><a class='ui green circular label'>0</a></td><td></td><td><a class='ui small teal label'>required <span class='detail'>False</span></a>&nbsp;&nbsp;<a class='ui small teal label'>sensitivty <span class='detail'>personal</span></a>&nbsp;&nbsp;<a class='ui small teal label'>type <span class='detail'>string</span></a></td></tr><tr role=\"row\" id='<a href=\"#work address\" target=\"_blank\" style>work address</a>' class=\"even\"><td><a href=\"#work address\" target=\"_blank\" style>work address</a></td><td>address of the user workplace</td><td><a class='ui green circular label'>0</a></td><td></td><td><a class='ui small teal label'>required <span class='detail'>False</span></a>&nbsp;&nbsp;<a class='ui small teal label'>sensitivty <span class='detail'>personal</span></a>&nbsp;&nbsp;<a class='ui small teal label'>type <span class='detail'>string</span></a></td></tr><tr role=\"row\" id='<a href=\"#personal_address\" target=\"_blank\" style>personal_address</a>' class=\"even\"><td><a href=\"#personal_address\" target=\"_blank\" style>personal_address</a></td><td>personal address of the user</td><td><a class='ui green circular label'>0</a></td><td></td><td><a class='ui small teal label'>required <span class='detail'>False</span></a>&nbsp;&nbsp;<a class='ui small teal label'>sensitivty <span class='detail'>personal</span></a>&nbsp;&nbsp;<a class='ui small teal label'>type <span class='detail'>string</span></a></td></tr><tr role=\"row\" id='<a href=\"#personal address\" target=\"_blank\" style>personal address</a>' class=\"even\"><td><a href=\"#personal address\" target=\"_blank\" style>personal address</a></td><td>personal address of the user</td><td><a class='ui green circular label'>0</a></td><td></td><td><a class='ui small teal label'>required <span class='detail'>False</span></a>&nbsp;&nbsp;<a class='ui small teal label'>sensitivty <span class='detail'>personal</span></a>&nbsp;&nbsp;<a class='ui small teal label'>type <span class='detail'>string</span></a></td></tr><tr role=\"row\" id='<a href=\"#personal home address\" target=\"_blank\" style>personal home address</a>' class=\"even\"><td><a href=\"#personal home address\" target=\"_blank\" style>personal home address</a></td><td>personal address of the user</td><td><a class='ui green circular label'>0</a></td><td></td><td><a class='ui small teal label'>required <span class='detail'>False</span></a>&nbsp;&nbsp;<a class='ui small teal label'>sensitivty <span class='detail'>personal</span></a>&nbsp;&nbsp;<a class='ui small teal label'>type <span class='detail'>string</span></a></td></tr><tr role=\"row\" id='<a href=\"#joined_year\" target=\"_blank\" style>joined_year</a>' class=\"even\"><td><a href=\"#joined_year\" target=\"_blank\" style>joined_year</a></td><td>joined year on the platform</td><td><a class='ui green circular label'>0</a></td><td></td><td><a class='ui small teal label'>required <span class='detail'>False</span></a>&nbsp;&nbsp;<a class='ui small teal label'>sensitivty <span class='detail'>public</span></a>&nbsp;&nbsp;<a class='ui small teal label'>type <span class='detail'>number</span></a></td></tr><tr role=\"row\" id='<a href=\"#year_of_birth\" target=\"_blank\" style>year_of_birth</a>' class=\"even\"><td><a href=\"#year_of_birth\" target=\"_blank\" style>year_of_birth</a></td><td>year of birth of the user</td><td><a class='ui green circular label'>0</a></td><td></td><td><a class='ui small teal label'>required <span class='detail'>False</span></a>&nbsp;&nbsp;<a class='ui small teal label'>sensitivty <span class='detail'>public</span></a>&nbsp;&nbsp;<a class='ui small teal label'>type <span class='detail'>number</span></a></td></tr><tr role=\"row\" id='<a href=\"#bankaccount\" target=\"_blank\" style>bankaccount</a>' class=\"even\"><td><a href=\"#bankaccount\" target=\"_blank\" style>bankaccount</a></td><td>address of the user house</td><td><a class='ui green circular label'>0</a></td><td></td><td><a class='ui small teal label'>required <span class='detail'>False</span></a>&nbsp;&nbsp;<a class='ui small teal label'>sensitivty <span class='detail'>personal</span></a>&nbsp;&nbsp;<a class='ui small teal label'>type <span class='detail'>string</span></a></td></tr><tr role=\"row\" id='<a href=\"#bank account\" target=\"_blank\" style>bank account</a>' class=\"even\"><td><a href=\"#bank account\" target=\"_blank\" style>bank account</a></td><td>address of the user house</td><td><a class='ui green circular label'>0</a></td><td></td><td><a class='ui small teal label'>required <span class='detail'>False</span></a>&nbsp;&nbsp;<a class='ui small teal label'>sensitivty <span class='detail'>personal</span></a>&nbsp;&nbsp;<a class='ui small teal label'>type <span class='detail'>string</span></a></td></tr><tr role=\"row\" id='<a href=\"#bankAccountID\" target=\"_blank\" style>bankAccountID</a>' class=\"even\"><td><a href=\"#bankAccountID\" target=\"_blank\" style>bankAccountID</a></td><td>address of the user house</td><td><a class='ui green circular label'>0</a></td><td></td><td><a class='ui small teal label'>required <span class='detail'>False</span></a>&nbsp;&nbsp;<a class='ui small teal label'>sensitivty <span class='detail'>personal</span></a>&nbsp;&nbsp;<a class='ui small teal label'>type <span class='detail'>string</span></a></td></tr><tr role=\"row\" id='<a href=\"#AccountID\" target=\"_blank\" style>AccountID</a>' class=\"even\"><td><a href=\"#AccountID\" target=\"_blank\" style>AccountID</a></td><td>address of the user house</td><td><a class='ui green circular label'>0</a></td><td></td><td><a class='ui small teal label'>required <span class='detail'>False</span></a>&nbsp;&nbsp;<a class='ui small teal label'>sensitivty <span class='detail'>personal</span></a>&nbsp;&nbsp;<a class='ui small teal label'>type <span class='detail'>string</span></a></td></tr></tbody> </table>\n",
       "        </div>\n",
       "    </div>\n",
       "    </div>\n",
       "\n",
       "    <script type=\"text/javascript\" src=\"https://code.jquery.com/jquery-3.5.1.js\"></script>\n",
       "    <script type=\"text/javascript\"\n",
       "        src=\"https://cdnjs.cloudflare.com/ajax/libs/popper.js/1.14.4/umd/popper.min.js\"></script>\n",
       "    <script type=\"text/javascript\" charset=\"utf8\"\n",
       "        src=\"https://cdn.datatables.net/1.11.3/js/jquery.dataTables.min.js\"></script>\n",
       "    <script type=\"text/javascript\" charset=\"utf8\"\n",
       "        src=\"https://cdn.datatables.net/1.11.3/js/dataTables.semanticui.min.js\"></script>\n",
       "    <script type=\"text/javascript\" charset=\"utf8\"\n",
       "        src=\"https://cdnjs.cloudflare.com/ajax/libs/semantic-ui/2.3.1/semantic.min.js\"></script>\n",
       "    <script>$(document).ready(function () { $('#glossary').DataTable(); }); </script>\n",
       "</body>\n",
       "\n",
       "</html>\n"
      ],
      "text/plain": [
       "<IPython.core.display.HTML object>"
      ]
     },
     "metadata": {},
     "output_type": "display_data"
    }
   ],
   "source": [
    "xy.display_docs(glossary)"
   ]
  },
  {
   "cell_type": "code",
   "execution_count": 3,
   "metadata": {},
   "outputs": [
    {
     "name": "stderr",
     "output_type": "stream",
     "text": [
      "/tmp/ipykernel_599/2536420952.py:28: UserWarning: [W008] Evaluating Doc.similarity based on empty vectors.\n",
      "  similariry = nlp(cleanup(source.name)).similarity(nlp(cleanup(target.name)))\n",
      "/tmp/ipykernel_599/2536420952.py:29: UserWarning: [W008] Evaluating Doc.similarity based on empty vectors.\n",
      "  similariry_spaced = nlp(cleanup_spaced(source.name)).similarity(nlp(cleanup_spaced(target.name)))\n"
     ]
    },
    {
     "name": "stdout",
     "output_type": "stream",
     "text": [
      "{'AccountID': ['bankAccountID'],\n",
      " 'HomeAddress': ['home address', 'homeAddress', 'personal home address'],\n",
      " 'bank account': ['bankaccount'],\n",
      " 'bankAccountID': ['AccountID'],\n",
      " 'bankaccount': ['bank account'],\n",
      " 'home address': ['homeAddress', 'HomeAddress', 'personal home address'],\n",
      " 'homeAddress': ['home address', 'HomeAddress', 'personal home address'],\n",
      " 'personal address': ['personal_address', 'personal home address'],\n",
      " 'personal home address': ['home address',\n",
      "                           'homeAddress',\n",
      "                           'HomeAddress',\n",
      "                           'personal_address',\n",
      "                           'personal address'],\n",
      " 'personal_address': ['personal address', 'personal home address']}\n"
     ]
    }
   ],
   "source": [
    "import spacy\n",
    "from re import sub\n",
    "\n",
    "import logging\n",
    "logger = logging.getLogger(\"spacy\")\n",
    "logger.setLevel(logging.ERROR)\n",
    "\n",
    "nlp = spacy.load(\"en_core_web_md\")\n",
    "SIMILARITY_THRESHOLD = 0.9\n",
    "\n",
    "def cleanup(term:str):\n",
    "    return ' '.join(\n",
    "    sub('([A-Z][a-z]+)', r' \\1',\n",
    "    sub('([A-Z]+)', r' \\1',\n",
    "    term.replace('-', '').replace('_', '').replace(' ', ''))).split()).lower()\n",
    "\n",
    "def cleanup_spaced(term:str):\n",
    "    return ' '.join(\n",
    "    sub('([A-Z][a-z]+)', r' \\1',\n",
    "    sub('([A-Z]+)', r' \\1',\n",
    "    term.replace('-', ' ').replace('_', ' '))).split()).lower()\n",
    "\n",
    "similar = {}\n",
    "terms = glossary.terms.values()\n",
    "for source in terms:\n",
    "    for target in terms:\n",
    "        if source.name != target.name:\n",
    "            similariry = nlp(cleanup(source.name)).similarity(nlp(cleanup(target.name)))\n",
    "            similariry_spaced = nlp(cleanup_spaced(source.name)).similarity(nlp(cleanup_spaced(target.name)))\n",
    "            if similariry > SIMILARITY_THRESHOLD or similariry_spaced > SIMILARITY_THRESHOLD:\n",
    "                similar[source.name] = [*similar.get(source.name, []), target.name]\n",
    "\n",
    "import pprint\n",
    "pprint.pprint(similar)\n"
   ]
  },
  {
   "cell_type": "code",
   "execution_count": null,
   "metadata": {},
   "outputs": [],
   "source": []
  }
 ],
 "metadata": {
  "interpreter": {
   "hash": "2272c0593a3af7a537e650dce1c95f2b19a4bd4fe88ee021d12fe11e7e10e22a"
  },
  "kernelspec": {
   "display_name": "Python 3.8.12 64-bit ('glossy38': pyenv)",
   "language": "python",
   "name": "python3"
  },
  "language_info": {
   "codemirror_mode": {
    "name": "ipython",
    "version": 3
   },
   "file_extension": ".py",
   "mimetype": "text/x-python",
   "name": "python",
   "nbconvert_exporter": "python",
   "pygments_lexer": "ipython3",
   "version": "3.8.12"
  },
  "orig_nbformat": 4
 },
 "nbformat": 4,
 "nbformat_minor": 2
}
