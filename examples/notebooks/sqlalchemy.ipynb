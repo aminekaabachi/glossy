{
 "cells": [
  {
   "cell_type": "code",
   "execution_count": 1,
   "metadata": {},
   "outputs": [
    {
     "data": {
      "text/plain": [
       "{'students': {'name': 'students',\n",
       "  'definition': 'entity representing a student in our school',\n",
       "  'usage_count': 0,\n",
       "  'metadata': {},\n",
       "  'relations': []},\n",
       " 'name': {'name': 'name',\n",
       "  'definition': 'name of the student',\n",
       "  'usage_count': 0,\n",
       "  'metadata': {},\n",
       "  'relations': []},\n",
       " 'lastname': {'name': 'lastname',\n",
       "  'definition': 'lastname of the student',\n",
       "  'usage_count': 0,\n",
       "  'metadata': {},\n",
       "  'relations': []},\n",
       " 'age': {'name': 'age',\n",
       "  'definition': 'age of the student',\n",
       "  'usage_count': 0,\n",
       "  'metadata': {'sensitivity': 'private'},\n",
       "  'relations': []}}"
      ]
     },
     "execution_count": 1,
     "metadata": {},
     "output_type": "execute_result"
    }
   ],
   "source": [
    "import glossy as g\n",
    "glossary = g.Glossary()\n",
    "\n",
    "#Defining glossary terms\n",
    "glossary(\"students\", \"entity representing a student in our school\")\n",
    "glossary(\"name\", \"name of the student\")\n",
    "glossary(\"lastname\", \"lastname of the student\")\n",
    "glossary(\"age\", \"age of the student\", False, sensitivity=\"private\")\n",
    "\n",
    "glossary.describe()"
   ]
  },
  {
   "cell_type": "code",
   "execution_count": 2,
   "metadata": {},
   "outputs": [],
   "source": [
    "from sqlalchemy import Table, Column, Integer, String, MetaData\n",
    "meta = MetaData()\n",
    "\n",
    "#When glossary is used here we know that it is a glossary term\n",
    "#That helps people understand better the meaning of terms used \n",
    "#in naming columns and tables\n",
    "students = Table(\n",
    "   glossary('students'), meta, \n",
    "   Column('id', Integer, primary_key = True), \n",
    "   Column(glossary('name'), String), \n",
    "   Column(glossary('lastname'), String), \n",
    "   Column(glossary('age'), Integer), \n",
    ")"
   ]
  },
  {
   "cell_type": "code",
   "execution_count": 3,
   "metadata": {},
   "outputs": [
    {
     "data": {
      "text/html": [
       "<!DOCTYPE html> <html lang=\"en\"> <head> <title>Glossy Documentation</title> <meta charset=\"utf-8\"> <link rel=\"stylesheet\" href=\"https://use.fontawesome.com/releases/v5.8.2/css/all.css\"> <link rel=\"stylesheet\" href=\"https://fonts.googleapis.com/css?family=Roboto:300,400,500,700&display=swap\"> <link href=\"https://cdnjs.cloudflare.com/ajax/libs/twitter-bootstrap/4.4.1/css/bootstrap.min.css\" rel=\"stylesheet\"> <link href=\"https://cdnjs.cloudflare.com/ajax/libs/mdbootstrap/4.18.0/css/mdb.min.css\" rel=\"stylesheet\"> <link rel=\"stylesheet\" type=\"text/css\" href=\"https://cdn.datatables.net/1.10.21/css/jquery.dataTables.css\"> <script type=\"text/javascript\" src=\"https://cdnjs.cloudflare.com/ajax/libs/jquery/3.4.1/jquery.min.js\"></script> <script type=\"text/javascript\" src=\"https://cdnjs.cloudflare.com/ajax/libs/popper.js/1.14.4/umd/popper.min.js\"></script> <script type=\"text/javascript\" src=\"https://cdnjs.cloudflare.com/ajax/libs/twitter-bootstrap/4.4.1/js/bootstrap.min.js\"></script> <script type=\"text/javascript\" src=\"https://cdnjs.cloudflare.com/ajax/libs/mdbootstrap/4.18.0/js/mdb.min.js\"></script> <script type=\"text/javascript\" charset=\"utf8\" src=\"https://cdn.datatables.net/1.10.21/js/jquery.dataTables.js\"></script> <style>table.dataTable thead .sorting:after, table.dataTable thead .sorting:before, table.dataTable thead .sorting_asc:after, table.dataTable thead .sorting_asc:before, table.dataTable thead .sorting_asc_disabled:after, table.dataTable thead .sorting_asc_disabled:before, table.dataTable thead .sorting_desc:after, table.dataTable thead .sorting_desc:before, table.dataTable thead .sorting_desc_disabled:after, table.dataTable thead .sorting_desc_disabled:before{bottom: .5em;} table a{margin: 0; color: #007bff !important;}</style> <script>$(document).ready(function (){$('#dtBasicExample').DataTable(); $('.dataTables_length').addClass('bs-select');}); </script> </head> <body> <div class=\"container\" style=\"padding: 1em;\"> <h2>✨ Glossary</h2> <div class=\"row\"> <div class=\"col-sm-12\"><table id=\"dtBasicExample\" class=\"table table-striped table-bordered table-sm dataTable\" cellspacing=\"0\" role=\"grid\" aria-describedby=\"dtBasicExample_info\" width=\"100%\" style=\"width: 100%;\"> <thead><tr role=\"row\"><th class=\"th-sm sorting_asc\" tabindex=\"0\" aria-controls=\"dtBasicExample\" rowspan=\"1\" colspan=\"1\" aria-sort=\"ascending\" aria-label=\"name : activate to sort column descending\" style=\"width: 85px;\">Name</th><th class=\"th-sm sorting_asc\" tabindex=\"0\" aria-controls=\"dtBasicExample\" rowspan=\"1\" colspan=\"1\" aria-sort=\"ascending\" aria-label=\"definition : activate to sort column descending\" style=\"width: 85px;\">Definition</th><th class=\"th-sm sorting_asc\" tabindex=\"0\" aria-controls=\"dtBasicExample\" rowspan=\"1\" colspan=\"1\" aria-sort=\"ascending\" aria-label=\"usage_count : activate to sort column descending\" style=\"width: 85px;\">Usage Count</th><th class=\"th-sm sorting_asc\" tabindex=\"0\" aria-controls=\"dtBasicExample\" rowspan=\"1\" colspan=\"1\" aria-sort=\"ascending\" aria-label=\"traces : activate to sort column descending\" style=\"width: 255px;\">Traces</th><th class=\"th-sm sorting_asc\" tabindex=\"0\" aria-controls=\"dtBasicExample\" rowspan=\"1\" colspan=\"1\" aria-sort=\"ascending\" aria-label=\"metadata : activate to sort column descending\" style=\"width: 255px;\">Metadata</th></tr></thead> <tbody><tr role=\"row\" class=\"even\"><td><a href=\"#\" target=\"_blank\" style>students</a></td><td>entity representing a student in our school</td><td>1</td><td>[FrameInfo(frame=<frame at 0x7f8bb4432840, file '/tmp/ipykernel_26358/2239602233.py', line 7, code <module>>, filename='/tmp/ipykernel_26358/2239602233.py', lineno=8, function='<module>', code_context=[\"   glossary('students'), meta, \\n\"], index=0)]</td><td>{}<br/></td></tr><tr role=\"row\" class=\"even\"><td><a href=\"#\" target=\"_blank\" style>name</a></td><td>name of the student</td><td>1</td><td>[FrameInfo(frame=<frame at 0x7f8bb4432840, file '/tmp/ipykernel_26358/2239602233.py', line 7, code <module>>, filename='/tmp/ipykernel_26358/2239602233.py', lineno=10, function='<module>', code_context=[\"   Column(glossary('name'), String), \\n\"], index=0)]</td><td>{}<br/></td></tr><tr role=\"row\" class=\"even\"><td><a href=\"#\" target=\"_blank\" style>lastname</a></td><td>lastname of the student</td><td>1</td><td>[FrameInfo(frame=<frame at 0x7f8bb4432840, file '/tmp/ipykernel_26358/2239602233.py', line 7, code <module>>, filename='/tmp/ipykernel_26358/2239602233.py', lineno=11, function='<module>', code_context=[\"   Column(glossary('lastname'), String), \\n\"], index=0)]</td><td>{}<br/></td></tr><tr role=\"row\" class=\"even\"><td><a href=\"#\" target=\"_blank\" style>age</a></td><td>age of the student</td><td>1</td><td>[FrameInfo(frame=<frame at 0x7f8bb4432840, file '/tmp/ipykernel_26358/2239602233.py', line 7, code <module>>, filename='/tmp/ipykernel_26358/2239602233.py', lineno=12, function='<module>', code_context=[\"   Column(glossary('age'), Integer), \\n\"], index=0)]</td><td>{'sensitivity': 'private'}<br/></td></tr></tbody> </table></div></div></div></div></body> </html>"
      ],
      "text/plain": [
       "<IPython.core.display.HTML object>"
      ]
     },
     "metadata": {},
     "output_type": "display_data"
    }
   ],
   "source": [
    "g.display_docs(glossary)"
   ]
  },
  {
   "cell_type": "code",
   "execution_count": null,
   "metadata": {},
   "outputs": [],
   "source": []
  }
 ],
 "metadata": {
  "interpreter": {
   "hash": "2272c0593a3af7a537e650dce1c95f2b19a4bd4fe88ee021d12fe11e7e10e22a"
  },
  "kernelspec": {
   "display_name": "Python 3.8.12 64-bit ('glossy38': pyenv)",
   "language": "python",
   "name": "python3"
  },
  "language_info": {
   "codemirror_mode": {
    "name": "ipython",
    "version": 3
   },
   "file_extension": ".py",
   "mimetype": "text/x-python",
   "name": "python",
   "nbconvert_exporter": "python",
   "pygments_lexer": "ipython3",
   "version": "3.8.12"
  },
  "orig_nbformat": 4
 },
 "nbformat": 4,
 "nbformat_minor": 2
}
