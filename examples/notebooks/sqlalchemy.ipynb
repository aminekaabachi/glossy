{
 "cells": [
  {
   "cell_type": "code",
   "execution_count": 7,
   "metadata": {},
   "outputs": [
    {
     "data": {
      "text/plain": [
       "{'students': {'name': 'students',\n",
       "  'definition': 'entity representing a student in our school',\n",
       "  'usage_count': 0,\n",
       "  'metadata': {},\n",
       "  'relations': []},\n",
       " 'name': {'name': 'name',\n",
       "  'definition': 'name of the student',\n",
       "  'usage_count': 0,\n",
       "  'metadata': {'sensitivity': 'private', 'required': False, 'type': 'Numeric'},\n",
       "  'relations': []},\n",
       " 'lastname': {'name': 'lastname',\n",
       "  'definition': 'lastname of the student',\n",
       "  'usage_count': 0,\n",
       "  'metadata': {'sensitivity': 'private', 'required': False, 'type': 'Numeric'},\n",
       "  'relations': []},\n",
       " 'age': {'name': 'age',\n",
       "  'definition': 'age of the student',\n",
       "  'usage_count': 0,\n",
       "  'metadata': {'sensitivity': 'private', 'required': False, 'type': 'Numeric'},\n",
       "  'relations': []}}"
      ]
     },
     "execution_count": 7,
     "metadata": {},
     "output_type": "execute_result"
    }
   ],
   "source": [
    "import lexy as xy\n",
    "glossary = xy.Glossary()\n",
    "\n",
    "#Defining glossary terms\n",
    "glossary(\"students\", \"entity representing a student in our school\", force_update=True)\n",
    "glossary(\"name\", \"name of the student\", force_update=True, sensitivity=\"private\", required=False, type=\"Numeric\")\n",
    "glossary(\"lastname\", \"lastname of the student\", force_update=True, sensitivity=\"private\", required=False, type=\"Numeric\")\n",
    "glossary(\"age\", \"age of the student\", force_update=True, sensitivity=\"private\", required=False, type=\"Numeric\")\n",
    "\n",
    "glossary.describe()"
   ]
  },
  {
   "cell_type": "code",
   "execution_count": 8,
   "metadata": {},
   "outputs": [],
   "source": [
    "from sqlalchemy import Table, Column, Integer, String, MetaData\n",
    "meta = MetaData()\n",
    "\n",
    "#When glossary is used here we know that it is a glossary term\n",
    "#That helps people understand better the meaning of terms used \n",
    "#in naming columns and tables\n",
    "students = Table(\n",
    "   glossary('students'), meta, \n",
    "   Column('id', Integer, primary_key = True), \n",
    "   Column(glossary('name'), String), \n",
    "   Column(glossary('lastname'), String), \n",
    "   Column(glossary('age'), Integer), \n",
    ")"
   ]
  },
  {
   "cell_type": "code",
   "execution_count": 9,
   "metadata": {},
   "outputs": [
    {
     "data": {
      "text/html": [
       "\n",
       "<!DOCTYPE html>\n",
       "<html lang=\"en\">\n",
       "\n",
       "<head>\n",
       "    <title>Lexy Documentation</title>\n",
       "    <meta charset=\"utf-8\">\n",
       "    <link rel=\"stylesheet\" href=\"https://use.fontawesome.com/releases/v5.8.2/css/all.css\">\n",
       "    <link rel=\"stylesheet\" href=\"https://fonts.googleapis.com/css?family=Roboto:300,400,500,700&display=swap\">\n",
       "    <link rel=\"stylesheet\" type=\"text/css\"\n",
       "        href=\"https://cdnjs.cloudflare.com/ajax/libs/semantic-ui/2.3.1/semantic.min.css\">\n",
       "    <link rel=\"stylesheet\" type=\"text/css\" href=\"https://cdnjs.cloudflare.com/ajax/libs/semantic-ui/2.3.1/components/table.min.css\">\n",
       "    <link rel=\"stylesheet\" type=\"text/css\" href=\"https://cdn.datatables.net/1.11.3/css/dataTables.semanticui.min.css\">\n",
       "    <style>\n",
       "        table.glossary thead .sorting:after,\n",
       "        table.glossary thead .sorting:before,\n",
       "        table.glossary thead .sorting_asc:after,\n",
       "        table.glossary thead .sorting_asc:before,\n",
       "        table.glossary thead .sorting_asc_disabled:after,\n",
       "        table.glossary thead .sorting_asc_disabled:before,\n",
       "        table.glossary thead .sorting_desc:after,\n",
       "        table.glossary thead .sorting_desc:before,\n",
       "        table.glossary thead .sorting_desc_disabled:after,\n",
       "        table.glossary thead .sorting_desc_disabled:before {\n",
       "            bottom: .5em;\n",
       "        }\n",
       "\n",
       "        table a {\n",
       "            margin: 0;\n",
       "            color: #007bff !important;\n",
       "        }\n",
       "\n",
       "        table, th, td {\n",
       "            border: 0.5px solid #ccc !important;\n",
       "            text-align: center !important;\n",
       "        }\n",
       "\n",
       "        a.label {\n",
       "            margin:1px !important;\n",
       "        }\n",
       "    </style>\n",
       "</head>\n",
       "\n",
       "<body>\n",
       "    <div class=\"ui\" style=\"padding: 1em;\">\n",
       "        <div\n",
       "            style=\"padding-top: 1em; padding-bottom:0.5em; margin-bottom: 1em; border-bottom: 2px solid #F1F1F1;\">\n",
       "            <h2>📙 Glossary</h2>\n",
       "        </div>\n",
       "        <div>\n",
       "            <table id=\"glossary\" class=\"ui compact striped table\" cellspacing=\"0\" role=\"grid\" width=\"100%\" style=\"width: 100%;\"> <thead><tr role=\"row\"><th class=\"th-sm \" tabindex=\"0\" aria-controls=\"glossy\" rowspan=\"1\" colspan=\"1\" aria-sort=\"ascending\" aria-label=\"name : activate to sort column descending\" style=\"width: 85px;\">Name</th><th class=\"th-sm \" tabindex=\"0\" aria-controls=\"glossy\" rowspan=\"1\" colspan=\"1\" aria-sort=\"ascending\" aria-label=\"definition : activate to sort column descending\" style=\"width: 255px;\">Definition</th><th class=\"th-sm \" tabindex=\"0\" aria-controls=\"glossy\" rowspan=\"1\" colspan=\"1\" aria-sort=\"ascending\" aria-label=\"usage_count : activate to sort column descending\" style=\"width: 85px;\">Usage Count</th><th class=\"th-sm \" tabindex=\"0\" aria-controls=\"glossy\" rowspan=\"1\" colspan=\"1\" aria-sort=\"ascending\" aria-label=\"traces : activate to sort column descending\" style=\"width: 255px;\">Traces</th><th class=\"th-sm \" tabindex=\"0\" aria-controls=\"glossy\" rowspan=\"1\" colspan=\"1\" aria-sort=\"ascending\" aria-label=\"metadata : activate to sort column descending\" style=\"width: 100px;\">Metadata</th></tr></thead> <tbody><tr role=\"row\" id='<a href=\"#students\" target=\"_blank\" style>students</a>' class=\"even\"><td><a href=\"#students\" target=\"_blank\" style>students</a></td><td>entity representing a student in our school</td><td><a class='ui small grey label'>1</a></td><td><span class='ui compact small message'><b>   glossary('students'), meta, \n",
       "</b> <span class='detail'>[/tmp/ipykernel_3169/2239602233.py] (lineno=8)</span></span></td><td></td></tr><tr role=\"row\" id='<a href=\"#name\" target=\"_blank\" style>name</a>' class=\"even\"><td><a href=\"#name\" target=\"_blank\" style>name</a></td><td>name of the student</td><td><a class='ui small grey label'>1</a></td><td><span class='ui compact small message'><b>   Column(glossary('name'), String), \n",
       "</b> <span class='detail'>[/tmp/ipykernel_3169/2239602233.py] (lineno=10)</span></span></td><td><a class='ui small teal label'>sensitivity <span class='detail'>private</span></a>&nbsp;&nbsp;<a class='ui small teal label'>required <span class='detail'>False</span></a>&nbsp;&nbsp;<a class='ui small teal label'>type <span class='detail'>Numeric</span></a></td></tr><tr role=\"row\" id='<a href=\"#lastname\" target=\"_blank\" style>lastname</a>' class=\"even\"><td><a href=\"#lastname\" target=\"_blank\" style>lastname</a></td><td>lastname of the student</td><td><a class='ui small grey label'>1</a></td><td><span class='ui compact small message'><b>   Column(glossary('lastname'), String), \n",
       "</b> <span class='detail'>[/tmp/ipykernel_3169/2239602233.py] (lineno=11)</span></span></td><td><a class='ui small teal label'>sensitivity <span class='detail'>private</span></a>&nbsp;&nbsp;<a class='ui small teal label'>required <span class='detail'>False</span></a>&nbsp;&nbsp;<a class='ui small teal label'>type <span class='detail'>Numeric</span></a></td></tr><tr role=\"row\" id='<a href=\"#age\" target=\"_blank\" style>age</a>' class=\"even\"><td><a href=\"#age\" target=\"_blank\" style>age</a></td><td>age of the student</td><td><a class='ui small grey label'>1</a></td><td><span class='ui compact small message'><b>   Column(glossary('age'), Integer), \n",
       "</b> <span class='detail'>[/tmp/ipykernel_3169/2239602233.py] (lineno=12)</span></span></td><td><a class='ui small teal label'>sensitivity <span class='detail'>private</span></a>&nbsp;&nbsp;<a class='ui small teal label'>required <span class='detail'>False</span></a>&nbsp;&nbsp;<a class='ui small teal label'>type <span class='detail'>Numeric</span></a></td></tr></tbody> </table>\n",
       "        </div>\n",
       "    </div>\n",
       "    </div>\n",
       "\n",
       "    <script type=\"text/javascript\" src=\"https://code.jquery.com/jquery-3.5.1.js\"></script>\n",
       "    <script type=\"text/javascript\"\n",
       "        src=\"https://cdnjs.cloudflare.com/ajax/libs/popper.js/1.14.4/umd/popper.min.js\"></script>\n",
       "    <script type=\"text/javascript\" charset=\"utf8\"\n",
       "        src=\"https://cdn.datatables.net/1.11.3/js/jquery.dataTables.min.js\"></script>\n",
       "    <script type=\"text/javascript\" charset=\"utf8\"\n",
       "        src=\"https://cdn.datatables.net/1.11.3/js/dataTables.semanticui.min.js\"></script>\n",
       "    <script type=\"text/javascript\" charset=\"utf8\"\n",
       "        src=\"https://cdnjs.cloudflare.com/ajax/libs/semantic-ui/2.3.1/semantic.min.js\"></script>\n",
       "    <script>$(document).ready(function () { $('#glossary').DataTable(); }); </script>\n",
       "</body>\n",
       "\n",
       "</html>\n"
      ],
      "text/plain": [
       "<IPython.core.display.HTML object>"
      ]
     },
     "metadata": {},
     "output_type": "display_data"
    }
   ],
   "source": [
    "xy.display_docs(glossary)"
   ]
  },
  {
   "cell_type": "markdown",
   "metadata": {},
   "source": []
  }
 ],
 "metadata": {
  "interpreter": {
   "hash": "2272c0593a3af7a537e650dce1c95f2b19a4bd4fe88ee021d12fe11e7e10e22a"
  },
  "kernelspec": {
   "display_name": "Python 3.8.12 64-bit ('lexy38': pyenv)",
   "language": "python",
   "name": "python3"
  },
  "language_info": {
   "codemirror_mode": {
    "name": "ipython",
    "version": 3
   },
   "file_extension": ".py",
   "mimetype": "text/x-python",
   "name": "python",
   "nbconvert_exporter": "python",
   "pygments_lexer": "ipython3",
   "version": "3.8.12"
  },
  "orig_nbformat": 4
 },
 "nbformat": 4,
 "nbformat_minor": 2
}
